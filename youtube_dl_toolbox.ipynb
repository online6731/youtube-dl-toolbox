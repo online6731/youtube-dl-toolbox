{
  "nbformat": 4,
  "nbformat_minor": 0,
  "metadata": {
    "colab": {
      "name": "youtube-dl toolbox.ipynb",
      "provenance": [],
      "authorship_tag": "ABX9TyN8Vo/Zx6YR/JA9+cdf4xlf",
      "include_colab_link": true
    },
    "kernelspec": {
      "name": "python3",
      "display_name": "Python 3"
    }
  },
  "cells": [
    {
      "cell_type": "markdown",
      "metadata": {
        "id": "view-in-github",
        "colab_type": "text"
      },
      "source": [
        "<a href=\"https://colab.research.google.com/github/online6731/youtube-dl-toolbox/blob/main/youtube_dl_toolbox.ipynb\" target=\"_parent\"><img src=\"https://colab.research.google.com/assets/colab-badge.svg\" alt=\"Open In Colab\"/></a>"
      ]
    },
    {
      "cell_type": "code",
      "metadata": {
        "id": "qOKysSYyVPWI",
        "cellView": "form"
      },
      "source": [
        "#@title Video + Playlist Downloder - Simple Mode { vertical-output: true }\r\n",
        "urls = \"\" #@param {type:\"string\"}\r\n",
        "max_filesize_mb = 1000 #@param { type: 'slider', min: 1, max: 1000}\r\n",
        "remove_everything = True #@param { type: 'boolean' }\r\n",
        "start_downloading_immediately = True #@param { type: 'boolean' }\r\n",
        "\r\n",
        "\r\n",
        "# Install + Import + Config\r\n",
        "try: import youtube_dl\r\n",
        "except:\r\n",
        "    ! pip install youtube-dl\r\n",
        "\r\n",
        "if remove_everything:\r\n",
        "    ! rm -rf *\r\n",
        "\r\n",
        "import youtube_dl\r\n",
        "import google\r\n",
        "\r\n",
        "\r\n",
        "# Download\r\n",
        "youtube_dl.YoutubeDL({\r\n",
        "    'outtmpl': '%(title)s.%(ext)s',\r\n",
        "    'format': '18',\r\n",
        "    'max-filesize': f'{max_filesize_mg}M'\r\n",
        "}).download(urls.split());\r\n",
        "\r\n",
        "! zip archive.zip *\r\n",
        "\r\n",
        "if start_downloading_immediately:\r\n",
        "    google.colab.files.download('archive.zip')"
      ],
      "execution_count": null,
      "outputs": []
    }
  ]
}