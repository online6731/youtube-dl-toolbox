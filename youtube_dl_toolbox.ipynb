{
  "nbformat": 4,
  "nbformat_minor": 0,
  "metadata": {
    "colab": {
      "name": "youtube-dl toolbox.ipynb",
      "provenance": [],
      "authorship_tag": "ABX9TyNGIml26OpUwvU+CMh9ccpV",
      "include_colab_link": true
    },
    "kernelspec": {
      "name": "python3",
      "display_name": "Python 3"
    }
  },
  "cells": [
    {
      "cell_type": "markdown",
      "metadata": {
        "id": "view-in-github",
        "colab_type": "text"
      },
      "source": [
        "<a href=\"https://colab.research.google.com/github/online6731/youtube-dl-toolbox/blob/main/youtube_dl_toolbox.ipynb\" target=\"_parent\"><img src=\"https://colab.research.google.com/assets/colab-badge.svg\" alt=\"Open In Colab\"/></a>"
      ]
    },
    {
      "cell_type": "code",
      "metadata": {
        "id": "qOKysSYyVPWI",
        "outputId": "fb3f188f-e9af-4846-d7b1-3c4534070c3c",
        "colab": {
          "base_uri": "https://localhost:8080/"
        }
      },
      "source": [
        "#@title Video + Playlist Downloder - Simple Mode { vertical-output: true }\r\n",
        "urls = \"https://www.youtube.com/playlist?list=PLZSO_6-bSqHQHBCoGaObUljoXAyyqhpFW\" #@param {type:\"string\"}\r\n",
        "max_filesize_mb = 1000 #@param { type: 'slider', min: 1, max: 1000}\r\n",
        "playlist_start = 1 #@param { type: 'number' }\r\n",
        "playlist_end = 50 #@param { type: 'number' }\r\n",
        "remove_everything = True #@param { type: 'boolean' }\r\n",
        "start_downloading_immediately = True #@param { type: 'boolean' }\r\n",
        "\r\n",
        "\r\n",
        "# Install + Import + Config\r\n",
        "try: import youtube_dl\r\n",
        "except:\r\n",
        "    ! pip install youtube-dl\r\n",
        "\r\n",
        "if remove_everything:\r\n",
        "    ! rm -rf *\r\n",
        "\r\n",
        "import youtube_dl\r\n",
        "import google\r\n",
        "\r\n",
        "\r\n",
        "# Download\r\n",
        "youtube_dl.YoutubeDL({\r\n",
        "    'outtmpl': '%(title)s.%(ext)s',\r\n",
        "    'format': '18',\r\n",
        "    'playlist-start': playlist_start,\r\n",
        "    'playlist-end': playlist_end,\r\n",
        "    'max-filesize': f'{max_filesize_mb}M'\r\n",
        "}).download(urls.split());\r\n",
        "\r\n",
        "! zip archive.zip *\r\n",
        "\r\n",
        "if start_downloading_immediately:\r\n",
        "    google.colab.files.download('archive.zip')"
      ],
      "execution_count": null,
      "outputs": [
        {
          "output_type": "stream",
          "text": [
            "[youtube:tab] PLZSO_6-bSqHQHBCoGaObUljoXAyyqhpFW: Downloading webpage\n",
            "[download] Downloading playlist: Deep Learning UC Berkeley STAT-157 2019\n",
            "[youtube:tab] Downloading page 1\n",
            "[youtube:tab] playlist Deep Learning UC Berkeley STAT-157 2019: Downloading 129 videos\n",
            "[download] Downloading video 1 of 129\n",
            "[youtube] Va8WWRfw7Og: Downloading webpage\n",
            "[download] Destination: L1_1 Logistics.mp4\n",
            "[download] 100% of 33.21MiB in 00:02\n",
            "[download] Downloading video 2 of 129\n",
            "[youtube] p9tpTt6ZsLI: Downloading webpage\n",
            "[download] Destination: L1_2 Deep Learning Overview.mp4\n",
            "[download] 100% of 15.03MiB in 00:01\n",
            "[download] Downloading video 3 of 129\n",
            "[youtube] qouBvNDOi9o: Downloading webpage\n",
            "[download] Destination: L1_3 Software.mp4\n",
            "[download] 100% of 19.79MiB in 00:02\n",
            "[download] Downloading video 4 of 129\n",
            "[youtube] dtX8iQGQQkI: Downloading webpage\n"
          ],
          "name": "stdout"
        }
      ]
    }
  ]
}